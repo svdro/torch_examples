{
 "cells": [
  {
   "cell_type": "code",
   "execution_count": 1,
   "id": "9a1ff97f-4f85-46ec-9b85-d26165d51cf9",
   "metadata": {},
   "outputs": [],
   "source": [
    "### For colab\n",
    "\n",
    "# !pip install torchtext\n",
    "# !pip install torchdatasets\n",
    "# !pip install spacy\n",
    "\n",
    "# !python -m spacy download en_core_web_sm\n",
    "# !python -m spacy download de_core_news_sm"
   ]
  },
  {
   "cell_type": "markdown",
   "id": "dbb11012-65ce-4c0a-9c12-d854c79c4f82",
   "metadata": {},
   "source": [
    "## load dataset"
   ]
  },
  {
   "cell_type": "code",
   "execution_count": 5,
   "id": "58a8d90f-6982-4669-bc1c-bb49748492cd",
   "metadata": {},
   "outputs": [],
   "source": [
    "import sys\n",
    "import torch\n",
    "sys.path.append(\"..\")\n",
    "\n",
    "from data_utils import Dataset\n",
    "\n",
    "device = torch.device('cuda' if torch.cuda.is_available() else 'cpu')"
   ]
  },
  {
   "cell_type": "code",
   "execution_count": null,
   "id": "7987aeb3-4944-4af6-bc02-565177ddc559",
   "metadata": {},
   "outputs": [],
   "source": [
    "d = Dataset(\"../.data\")"
   ]
  },
  {
   "cell_type": "code",
   "execution_count": 14,
   "id": "b571adb2-d9ab-430c-bd23-f6e85126f4cb",
   "metadata": {},
   "outputs": [
    {
     "name": "stdout",
     "output_type": "stream",
     "text": [
      "<bos> Zwei junge weiße Männer sind im Freien in der Nähe vieler Büsche . <eos> <pad> <pad> \n",
      " <bos> Two young , White males are outside near many bushes . <eos> <pad> <pad> <pad> <pad> \n",
      "\n",
      "<bos> Mehrere Männer mit Schutzhelmen bedienen ein Antriebsradsystem . <eos> <pad> <pad> <pad> <pad> <pad> <pad> <pad> \n",
      " <bos> Several men in hard hats are operating a giant pulley system . <eos> <pad> <pad> <pad> \n",
      "\n",
      "<bos> Ein kleines Mädchen klettert in ein Spielhaus aus Holz . <eos> <pad> <pad> <pad> <pad> <pad> \n",
      " <bos> A little girl climbing into a wooden playhouse . <eos> <pad> <pad> <pad> <pad> <pad> <pad> \n",
      "\n",
      "<bos> Ein Mann in einem blauen Hemd steht auf einer Leiter und putzt ein Fenster . <eos> \n",
      " <bos> A man in a blue shirt is standing on a ladder cleaning a window . <eos> \n",
      "\n"
     ]
    }
   ],
   "source": [
    "B = 4\n",
    "train_dataloader = d.get_dataloader(B)\n",
    "for i, (src, tgt) in enumerate(train_dataloader):\n",
    "    src, tgt = src.to(device), tgt.to(device)\n",
    "    tgt_inp, tgt_out = tgt[:,  :-1], tgt[:, 1:]\n",
    "    \n",
    "    \n",
    "    for j in range(B):\n",
    "        src_tokens = list(src[j, :].detach().numpy())\n",
    "        tgt_tokens = list(tgt[j, :].detach().numpy())\n",
    "        src_sentence = \" \".join(d.src_vocab.lookup_tokens(src_tokens))\n",
    "        tgt_sentence = \" \".join(d.tgt_vocab.lookup_tokens(tgt_tokens))\n",
    "        print(src_sentence, \"\\n\", tgt_sentence, \"\\n\")\n",
    "    \n",
    "    break"
   ]
  }
 ],
 "metadata": {
  "kernelspec": {
   "display_name": "Python 3 (ipykernel)",
   "language": "python",
   "name": "python3"
  },
  "language_info": {
   "codemirror_mode": {
    "name": "ipython",
    "version": 3
   },
   "file_extension": ".py",
   "mimetype": "text/x-python",
   "name": "python",
   "nbconvert_exporter": "python",
   "pygments_lexer": "ipython3",
   "version": "3.9.2"
  }
 },
 "nbformat": 4,
 "nbformat_minor": 5
}
