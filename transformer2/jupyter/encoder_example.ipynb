{
 "cells": [
  {
   "cell_type": "code",
   "execution_count": 2,
   "id": "9ed72d19-86bf-435c-b116-77078b37fe3e",
   "metadata": {},
   "outputs": [],
   "source": [
    "%reload_ext autoreload\n",
    "%autoreload 2"
   ]
  },
  {
   "cell_type": "code",
   "execution_count": 3,
   "id": "61172ab0-e149-4017-a792-8a895c5cc796",
   "metadata": {},
   "outputs": [],
   "source": [
    "import torch\n",
    "import sys\n",
    "\n",
    "sys.path.append(\"..\")\n",
    "from data_utils import data_process, batchify, get_batch\n",
    "device = torch.device(\"cuda\" if torch.cuda.is_available() else \"cpu\")"
   ]
  },
  {
   "cell_type": "markdown",
   "id": "09397fdf-d0b7-4f2f-b80f-bd2c3826c6a0",
   "metadata": {},
   "source": [
    "## Dataset"
   ]
  },
  {
   "cell_type": "code",
   "execution_count": 4,
   "id": "82cfb9e3-8220-4b56-9d6e-24344258dfa5",
   "metadata": {},
   "outputs": [],
   "source": [
    "from torch.utils.data import dataset\n",
    "from torchtext.datasets import WikiText2\n",
    "from torchtext.data.utils import get_tokenizer\n",
    "from torchtext.vocab import build_vocab_from_iterator\n",
    "\n",
    "\n",
    "train_iter = WikiText2(split=\"train\")\n",
    "tokenizer = get_tokenizer(\"basic_english\")\n",
    "vocab = build_vocab_from_iterator(map(tokenizer, train_iter), specials=[\"<unk>\"])\n",
    "vocab.set_default_index(vocab[\"<unk>\"])\n",
    "\n",
    "train_iter, val_iter, test_iter = WikiText2()\n",
    "train_data = data_process(train_iter, vocab, tokenizer)\n",
    "val_data = data_process(val_iter, vocab, tokenizer)\n",
    "test_data = data_process(test_iter, vocab, tokenizer)\n",
    "\n",
    "batch_size = 20\n",
    "eval_batch_size = 10\n",
    "train_data = batchify(train_data, batch_size, device)\n",
    "val_data = batchify(val_data, eval_batch_size, device)\n",
    "test_data = batchify(test_data, eval_batch_size, device)"
   ]
  },
  {
   "cell_type": "code",
   "execution_count": 5,
   "id": "336169d8-a1ba-47fe-9780-ae216e5eef25",
   "metadata": {},
   "outputs": [
    {
     "data": {
      "text/plain": [
       "'video game developed by sega and media . vision for the playstation portable . released in january 2011 in japan , it is the third game in the valkyria series . <unk> the same fusion of tactical and real @-@ time gameplay as its predecessors , the story runs parallel to the first game and follows the nameless , a penal military unit serving the nation of gallia during the second europan war who perform secret black operations and are pitted against the imperial unit <unk> raven . the game began development in 2010 , carrying over a large portion'"
      ]
     },
     "execution_count": 5,
     "metadata": {},
     "output_type": "execute_result"
    }
   ],
   "source": [
    "idx2word = {i: x for i, x in enumerate(vocab.get_itos())}\n",
    "\n",
    "def to_sentence(x):\n",
    "    return \" \".join([idx2word[int(idx)] for idx in x])\n",
    "\n",
    "def to_tokens(x):\n",
    "    return [idx2word[int(idx)] for idx in x]\n",
    "\n",
    "data, _ = get_batch(train_data, batch_size*2, bptt=100)\n",
    "to_sentence(data[:, 0])"
   ]
  },
  {
   "cell_type": "markdown",
   "id": "a1df1b74-4c61-46a6-b389-ad48820c95e3",
   "metadata": {},
   "source": [
    "## Model"
   ]
  },
  {
   "cell_type": "code",
   "execution_count": 6,
   "id": "6068fdac-e057-4b18-87d8-fcb8515166bb",
   "metadata": {},
   "outputs": [],
   "source": [
    "from torch import nn, Tensor\n",
    "from multihead_attention import MultiheadAttention\n",
    "from positional_encoding import PositionalEncoding"
   ]
  },
  {
   "cell_type": "code",
   "execution_count": 7,
   "id": "67cb518b-948b-4baa-a212-54876b426fc3",
   "metadata": {},
   "outputs": [],
   "source": [
    "def generate_square_subsequent_mask(sz: int) -> Tensor:\n",
    "    \"\"\"Generates an upper triangular matrix of -inf, with zeros on diag.\"\"\"\n",
    "    return torch.triu(torch.ones(sz, sz) * float(\"-inf\"), diagonal=1)\n",
    "\n",
    "class Model(nn.Module):\n",
    "    def __init__(self, n_tokens, D, B, n_heads):\n",
    "        super().__init__()\n",
    "        self.embedding = nn.Embedding(n_tokens, D)\n",
    "        self.pe = PositionalEncoding(D, dropout=0)\n",
    "        self.encoder = MultiheadAttention(D, n_heads, bias=True)\n",
    "        self.decoder = nn.Linear(D, n_tokens)\n",
    "        \n",
    "        self._init_parameters()\n",
    "    \n",
    "    def _init_parameters(self):\n",
    "        self.decoder.bias.data.zero_()\n",
    "        self.decoder.weight.data.uniform_(-0.1, 0.1)\n",
    "\n",
    "    def forward(self, src, attn_mask):\n",
    "        \"\"\" \n",
    "        Args: \n",
    "            src: tensor, shape [B, N]\n",
    "        \"\"\"\n",
    "        # (B, N, D)\n",
    "        src = self.embedding(src)\n",
    "        # print(src[0])\n",
    "        \n",
    "        \n",
    "        \n",
    "        src = self.pe(src)\n",
    "        # print(src[0])\n",
    "        \n",
    "        # print(\"embedding  : \", src.shape)\n",
    "        \n",
    "        # (B, N, D), (B, n_heads, N, N)\n",
    "        attn_output, attn_mask =self.encoder(src, src, src, attn_mask = attn_mask)\n",
    "        # print(attn_output[0])\n",
    "        \n",
    "        # (B, N, n_tokens)\n",
    "        output = self.decoder(attn_output)\n",
    "        return output, attn_mask\n",
    "        \n",
    "        \n",
    "D = 8\n",
    "N = 8\n",
    "n_heads = 4\n",
    "n_tokens = len(vocab)        \n",
    "\n",
    "torch.manual_seed(12)\n",
    "model = Model(n_tokens, D, batch_size, n_heads)\n",
    "mask = generate_square_subsequent_mask(N)"
   ]
  },
  {
   "cell_type": "markdown",
   "id": "388130f0-ea49-4348-b667-a2d4b579cfad",
   "metadata": {},
   "source": [
    "## Train"
   ]
  },
  {
   "cell_type": "code",
   "execution_count": 8,
   "id": "604b1390-e8b9-4c14-a268-cd16722ae01a",
   "metadata": {},
   "outputs": [],
   "source": [
    "lr = 5.0\n",
    "log_interval = 200\n",
    "max_batches = 1000\n",
    "\n",
    "criterion = nn.CrossEntropyLoss()\n",
    "optimizer = torch.optim.SGD(model.parameters(), lr=lr)\n",
    "scheduler = torch.optim.lr_scheduler.StepLR(optimizer, 1, gamma=0.95)"
   ]
  },
  {
   "cell_type": "code",
   "execution_count": 9,
   "id": "7ac72e80-3e3a-4d17-b9ca-755bf44eb968",
   "metadata": {},
   "outputs": [
    {
     "name": "stdout",
     "output_type": "stream",
     "text": [
      "(200) loss: 8.293 | lr: 5.000\n",
      "(400) loss: 7.377 | lr: 4.750\n",
      "(600) loss: 7.216 | lr: 4.513\n",
      "(800) loss: 7.037 | lr: 4.287\n",
      "(1000) loss: 6.990 | lr: 4.073\n"
     ]
    }
   ],
   "source": [
    "model.train()\n",
    "total_loss = 0\n",
    "for b, i in enumerate(range(0, len(train_data), batch_size)):\n",
    "    data, targets = get_batch(train_data, i, bptt=N)\n",
    "    if data.shape[1] != batch_size:\n",
    "        print(\"incomplete\")\n",
    "        break\n",
    "        \n",
    "    output, attn_mask = model(data.t(), mask)\n",
    "    \n",
    "    loss = criterion(output.view(-1, n_tokens), targets)\n",
    "    optimizer.zero_grad()\n",
    "    loss.backward()\n",
    "    torch.nn.utils.clip_grad_norm_(model.parameters(), 0.5)\n",
    "    optimizer.step()\n",
    "    \n",
    "    total_loss += loss.item()\n",
    "    \n",
    "    if b % log_interval == 0 and i !=0:\n",
    "        lr = scheduler.get_last_lr()[0]\n",
    "        print(f\"({b}) loss: {total_loss/log_interval:<.3f} | lr: {lr:<.3f}\")\n",
    "        scheduler.step()\n",
    "        total_loss = 0\n",
    "        \n",
    "    if b % max_batches == 0 and b != 0:\n",
    "        break"
   ]
  },
  {
   "cell_type": "markdown",
   "id": "a9ae22b2-4d77-4965-84e5-51b8de893e05",
   "metadata": {},
   "source": [
    "### look at attn_mask"
   ]
  },
  {
   "cell_type": "code",
   "execution_count": 10,
   "id": "81fe0bf2-6f22-4637-bfd6-574fb6ca9ecb",
   "metadata": {},
   "outputs": [
    {
     "name": "stdout",
     "output_type": "stream",
     "text": [
      "output sentence: , , , , , , , ,\n"
     ]
    },
    {
     "data": {
      "image/png": "[encoded data removed]",
      "text/plain": [
       "<Figure size 2000x500 with 4 Axes>"
      ]
     },
     "metadata": {},
     "output_type": "display_data"
    }
   ],
   "source": [
    "import matplotlib.pyplot as plt\n",
    "import random\n",
    "\n",
    "model.eval()\n",
    "\n",
    "idx = random.randint(0, train_data.size(0))\n",
    "data, targets = get_batch(train_data, idx , bptt=N)\n",
    "data = data[:, :1]\n",
    "\n",
    "\n",
    "output, attn_mask = model(data.t(), mask)\n",
    "\n",
    "output_sentence = to_sentence(output.argmax(-1).squeeze())\n",
    "print(f\"output sentence: {output_sentence}\")\n",
    "\n",
    "labels = to_tokens(data.squeeze())\n",
    "\n",
    "_, ax = plt.subplots(1, max(n_heads, 2), figsize=(5 * n_heads, 5))\n",
    "for i in range(n_heads):\n",
    "    ax[i].imshow(attn_mask[0, i].detach())\n",
    "\n",
    "    ax[i].set_xticks(range(N))\n",
    "    ax[i].set_yticks(range(N))\n",
    "    ax[i].set_xticklabels(labels, rotation=90)\n",
    "    ax[i].set_yticklabels(labels, rotation=0)\n",
    "    \n",
    "plt.show()"
   ]
  }
 ],
 "metadata": {
  "kernelspec": {
   "display_name": "Python 3 (ipykernel)",
   "language": "python",
   "name": "python3"
  },
  "language_info": {
   "codemirror_mode": {
    "name": "ipython",
    "version": 3
   },
   "file_extension": ".py",
   "mimetype": "text/x-python",
   "name": "python",
   "nbconvert_exporter": "python",
   "pygments_lexer": "ipython3",
   "version": "3.9.2"
  }
 },
 "nbformat": 4,
 "nbformat_minor": 5
}
