{
 "cells": [
  {
   "cell_type": "code",
   "execution_count": 1,
   "id": "9ed72d19-86bf-435c-b116-77078b37fe3e",
   "metadata": {},
   "outputs": [],
   "source": [
    "%reload_ext autoreload\n",
    "%autoreload 2"
   ]
  },
  {
   "cell_type": "code",
   "execution_count": 2,
   "id": "61172ab0-e149-4017-a792-8a895c5cc796",
   "metadata": {},
   "outputs": [
    {
     "name": "stderr",
     "output_type": "stream",
     "text": [
      "/Users/svendroste/repos/torch_examples/transformer2/.env/lib/python3.9/site-packages/tqdm/auto.py:22: TqdmWarning: IProgress not found. Please update jupyter and ipywidgets. See https://ipywidgets.readthedocs.io/en/stable/user_install.html\n",
      "  from .autonotebook import tqdm as notebook_tqdm\n"
     ]
    }
   ],
   "source": [
    "import torch\n",
    "import sys\n",
    "\n",
    "sys.path.append(\"..\")\n",
    "from data_utils import data_process, batchify, get_batch\n",
    "device = torch.device(\"cuda\" if torch.cuda.is_available() else \"cpu\")"
   ]
  },
  {
   "cell_type": "markdown",
   "id": "09397fdf-d0b7-4f2f-b80f-bd2c3826c6a0",
   "metadata": {},
   "source": [
    "## Dataset"
   ]
  },
  {
   "cell_type": "code",
   "execution_count": 3,
   "id": "82cfb9e3-8220-4b56-9d6e-24344258dfa5",
   "metadata": {},
   "outputs": [],
   "source": [
    "from torch.utils.data import dataset\n",
    "from torchtext.datasets import WikiText2\n",
    "from torchtext.data.utils import get_tokenizer\n",
    "from torchtext.vocab import build_vocab_from_iterator\n",
    "\n",
    "\n",
    "train_iter = WikiText2(split=\"train\")\n",
    "tokenizer = get_tokenizer(\"basic_english\")\n",
    "vocab = build_vocab_from_iterator(map(tokenizer, train_iter), specials=[\"<unk>\"])\n",
    "vocab.set_default_index(vocab[\"<unk>\"])\n",
    "\n",
    "train_iter, val_iter, test_iter = WikiText2()\n",
    "train_data = data_process(train_iter, vocab, tokenizer)\n",
    "val_data = data_process(val_iter, vocab, tokenizer)\n",
    "test_data = data_process(test_iter, vocab, tokenizer)\n",
    "\n",
    "batch_size = 20\n",
    "eval_batch_size = 10\n",
    "train_data = batchify(train_data, batch_size, device)\n",
    "val_data = batchify(val_data, eval_batch_size, device)\n",
    "test_data = batchify(test_data, eval_batch_size, device)"
   ]
  },
  {
   "cell_type": "code",
   "execution_count": 4,
   "id": "336169d8-a1ba-47fe-9780-ae216e5eef25",
   "metadata": {},
   "outputs": [
    {
     "data": {
      "text/plain": [
       "'video game developed by sega and media . vision for the playstation portable . released in january 2011 in japan , it is the third game in the valkyria series . <unk> the same fusion of tactical and real @-@ time gameplay as its predecessors , the story runs parallel to the first game and follows the nameless , a penal military unit serving the nation of gallia during the second europan war who perform secret black operations and are pitted against the imperial unit <unk> raven . the game began development in 2010 , carrying over a large portion'"
      ]
     },
     "execution_count": 4,
     "metadata": {},
     "output_type": "execute_result"
    }
   ],
   "source": [
    "idx2word = {i: x for i, x in enumerate(vocab.get_itos())}\n",
    "\n",
    "def to_sentence(x):\n",
    "    return \" \".join([idx2word[int(idx)] for idx in x])\n",
    "\n",
    "def to_tokens(x):\n",
    "    return [idx2word[int(idx)] for idx in x]\n",
    "\n",
    "data, _ = get_batch(train_data, batch_size*2, bptt=100)\n",
    "to_sentence(data[:, 0])"
   ]
  },
  {
   "cell_type": "markdown",
   "id": "a1df1b74-4c61-46a6-b389-ad48820c95e3",
   "metadata": {},
   "source": [
    "## Model"
   ]
  },
  {
   "cell_type": "code",
   "execution_count": 5,
   "id": "6068fdac-e057-4b18-87d8-fcb8515166bb",
   "metadata": {},
   "outputs": [],
   "source": [
    "from torch import nn, Tensor\n",
    "from multihead_attention import MultiheadAttention"
   ]
  },
  {
   "cell_type": "code",
   "execution_count": 16,
   "id": "67cb518b-948b-4baa-a212-54876b426fc3",
   "metadata": {},
   "outputs": [],
   "source": [
    "def generate_square_subsequent_mask(sz: int) -> Tensor:\n",
    "    \"\"\"Generates an upper triangular matrix of -inf, with zeros on diag.\"\"\"\n",
    "    return torch.triu(torch.ones(sz, sz) * float(\"-inf\"), diagonal=1)\n",
    "\n",
    "class Model(nn.Module):\n",
    "    def __init__(self, n_tokens, D, B, n_heads):\n",
    "        super().__init__()\n",
    "        self.embedding = nn.Embedding(n_tokens, D)\n",
    "        self.encoder = MultiheadAttention(D, n_heads, bias=True)\n",
    "        self.decoder = nn.Linear(D, n_tokens)\n",
    "        \n",
    "        self._init_parameters()\n",
    "    \n",
    "    def _init_parameters(self):\n",
    "        self.decoder.bias.data.zero_()\n",
    "        self.decoder.weight.data.uniform_(-0.1, 0.1)\n",
    "\n",
    "    def forward(self, src, attn_mask):\n",
    "        \"\"\" \n",
    "        Args: \n",
    "            src: tensor, shape [B, N]\n",
    "        \"\"\"\n",
    "        # (B, N, D)\n",
    "        src = self.embedding(src)\n",
    "        # print(\"embedding  : \", src.shape)\n",
    "        \n",
    "        # (B, N, D), (B, n_heads, N, N)\n",
    "        attn_output, attn_mask =self.encoder(src, src, src, attn_mask = attn_mask)\n",
    "        \n",
    "        # (B, N, n_tokens)\n",
    "        output = self.decoder(attn_output)\n",
    "        return output, attn_mask\n",
    "        \n",
    "        \n",
    "D = 8\n",
    "N = 8\n",
    "n_heads = 4\n",
    "n_tokens = len(vocab)        \n",
    "\n",
    "model = Model(n_tokens, D, batch_size, n_heads)\n",
    "mask = generate_square_subsequent_mask(N)"
   ]
  },
  {
   "cell_type": "markdown",
   "id": "388130f0-ea49-4348-b667-a2d4b579cfad",
   "metadata": {},
   "source": [
    "## Train"
   ]
  },
  {
   "cell_type": "code",
   "execution_count": 17,
   "id": "604b1390-e8b9-4c14-a268-cd16722ae01a",
   "metadata": {},
   "outputs": [],
   "source": [
    "lr = 5.0\n",
    "log_interval = 200\n",
    "max_batches = 5000\n",
    "\n",
    "criterion = nn.CrossEntropyLoss()\n",
    "optimizer = torch.optim.SGD(model.parameters(), lr=lr)\n",
    "scheduler = torch.optim.lr_scheduler.StepLR(optimizer, 1, gamma=0.95)"
   ]
  },
  {
   "cell_type": "code",
   "execution_count": 18,
   "id": "7ac72e80-3e3a-4d17-b9ca-755bf44eb968",
   "metadata": {},
   "outputs": [
    {
     "name": "stdout",
     "output_type": "stream",
     "text": [
      "(200) loss: 8.023 | lr: 5.000\n",
      "(400) loss: 7.352 | lr: 4.750\n",
      "(600) loss: 7.159 | lr: 4.513\n",
      "(800) loss: 7.003 | lr: 4.287\n",
      "(1000) loss: 6.946 | lr: 4.073\n",
      "(1200) loss: 6.894 | lr: 3.869\n",
      "(1400) loss: 6.824 | lr: 3.675\n",
      "(1600) loss: 6.818 | lr: 3.492\n",
      "(1800) loss: 6.767 | lr: 3.317\n",
      "(2000) loss: 6.748 | lr: 3.151\n",
      "(2200) loss: 6.764 | lr: 2.994\n",
      "(2400) loss: 6.681 | lr: 2.844\n",
      "(2600) loss: 6.721 | lr: 2.702\n",
      "(2800) loss: 6.656 | lr: 2.567\n",
      "(3000) loss: 6.631 | lr: 2.438\n",
      "(3200) loss: 6.657 | lr: 2.316\n",
      "(3400) loss: 6.613 | lr: 2.201\n",
      "(3600) loss: 6.585 | lr: 2.091\n",
      "(3800) loss: 6.531 | lr: 1.986\n",
      "(4000) loss: 6.563 | lr: 1.887\n",
      "(4200) loss: 6.557 | lr: 1.792\n",
      "(4400) loss: 6.570 | lr: 1.703\n",
      "(4600) loss: 6.484 | lr: 1.618\n",
      "(4800) loss: 6.500 | lr: 1.537\n",
      "(5000) loss: 6.493 | lr: 1.460\n"
     ]
    }
   ],
   "source": [
    "model.train()\n",
    "total_loss = 0\n",
    "for b, i in enumerate(range(0, len(train_data), batch_size)):\n",
    "    data, targets = get_batch(train_data, i, bptt=N)\n",
    "    if data.shape[1] != batch_size:\n",
    "        print(\"incomplete\")\n",
    "        break\n",
    "        \n",
    "    output, attn_mask = model(data.t(), mask)\n",
    "    \n",
    "    loss = criterion(output.view(-1, n_tokens), targets)\n",
    "    optimizer.zero_grad()\n",
    "    loss.backward()\n",
    "    torch.nn.utils.clip_grad_norm_(model.parameters(), 0.5)\n",
    "    optimizer.step()\n",
    "    \n",
    "    total_loss += loss.item()\n",
    "    \n",
    "    if b % log_interval == 0 and i !=0:\n",
    "        lr = scheduler.get_last_lr()[0]\n",
    "        print(f\"({b}) loss: {total_loss/log_interval:<.3f} | lr: {lr:<.3f}\")\n",
    "        scheduler.step()\n",
    "        total_loss = 0\n",
    "        \n",
    "    if b % max_batches == 0 and b != 0:\n",
    "        break"
   ]
  },
  {
   "cell_type": "markdown",
   "id": "a9ae22b2-4d77-4965-84e5-51b8de893e05",
   "metadata": {},
   "source": [
    "### look at attn_mask"
   ]
  },
  {
   "cell_type": "code",
   "execution_count": 20,
   "id": "4c8f4009-d6fd-4f03-b4fe-0ce779d3beb4",
   "metadata": {},
   "outputs": [
    {
     "name": "stdout",
     "output_type": "stream",
     "text": [
      "output sentence: <unk> the <unk> <unk> . the <unk> .\n"
     ]
    },
    {
     "data": {
      "image/png": "[encoded data removed]",
      "text/plain": [
       "<Figure size 2000x500 with 4 Axes>"
      ]
     },
     "metadata": {},
     "output_type": "display_data"
    }
   ],
   "source": [
    "import matplotlib.pyplot as plt\n",
    "import random\n",
    "\n",
    "model.eval()\n",
    "\n",
    "idx = random.randint(0, train_data.size(0))\n",
    "data, targets = get_batch(train_data, idx , bptt=N)\n",
    "data = data[:, :1]\n",
    "\n",
    "\n",
    "output, attn_mask = model(data.t(), mask)\n",
    "\n",
    "output_sentence = to_sentence(output.argmax(-1).squeeze())\n",
    "print(f\"output sentence: {output_sentence}\")\n",
    "\n",
    "labels = to_tokens(data.squeeze())\n",
    "\n",
    "_, ax = plt.subplots(1, max(n_heads, 2), figsize=(5 * n_heads, 5))\n",
    "for i in range(n_heads):\n",
    "    ax[i].imshow(attn_mask[0, i].detach())\n",
    "\n",
    "    ax[i].set_xticks(range(N))\n",
    "    ax[i].set_yticks(range(N))\n",
    "    ax[i].set_xticklabels(labels, rotation=90)\n",
    "    ax[i].set_yticklabels(labels, rotation=0)\n",
    "    \n",
    "plt.show()"
   ]
  },
  {
   "cell_type": "code",
   "execution_count": null,
   "id": "452360bb-ec67-4260-abe1-9edba3b9481d",
   "metadata": {},
   "outputs": [],
   "source": []
  }
 ],
 "metadata": {
  "kernelspec": {
   "display_name": "Python 3 (ipykernel)",
   "language": "python",
   "name": "python3"
  },
  "language_info": {
   "codemirror_mode": {
    "name": "ipython",
    "version": 3
   },
   "file_extension": ".py",
   "mimetype": "text/x-python",
   "name": "python",
   "nbconvert_exporter": "python",
   "pygments_lexer": "ipython3",
   "version": "3.9.2"
  }
 },
 "nbformat": 4,
 "nbformat_minor": 5
}
