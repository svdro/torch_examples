{
 "cells": [
  {
   "cell_type": "code",
   "execution_count": 1,
   "id": "0daf9208-dad8-4a2b-81ff-a5475d6e3919",
   "metadata": {},
   "outputs": [],
   "source": [
    "%reload_ext autoreload\n",
    "%autoreload 2"
   ]
  },
  {
   "cell_type": "code",
   "execution_count": 17,
   "id": "35f29007-4007-4d59-91a1-52cfd9df2bc9",
   "metadata": {},
   "outputs": [],
   "source": [
    "import matplotlib.pyplot as plt\n",
    "import torch\n",
    "import sys\n",
    "sys.path.append(\"..\")\n",
    "\n",
    "from multihead_attention import MultiheadAttention"
   ]
  },
  {
   "cell_type": "code",
   "execution_count": 14,
   "id": "9f18d347-1eda-4d69-95fe-9c8625830731",
   "metadata": {},
   "outputs": [],
   "source": [
    "n_heads = 2\n",
    "B, N = 2, 10\n",
    "Dq, Dk, Dv = 6, 4, 4\n",
    "\n",
    "\n",
    "q = torch.rand(B, N, Dq)\n",
    "k = torch.rand(B, N, Dk)\n",
    "v = torch.rand(B, N, Dv)"
   ]
  },
  {
   "cell_type": "code",
   "execution_count": 38,
   "id": "c8f32b90-825a-4ede-8190-0618214b5f0d",
   "metadata": {},
   "outputs": [
    {
     "name": "stdout",
     "output_type": "stream",
     "text": [
      "attn_output: torch.Size([2, 10, 6])\n",
      "attn_weights: torch.Size([2, 2, 10, 10])\n"
     ]
    }
   ],
   "source": [
    "multiheadAttention = MultiheadAttention(Dq, n_heads, kdim=Dk, vdim=Dv)\n",
    "\n",
    "attn_output, attn_weights = multiheadAttention(q, v, k)\n",
    "print(f\"attn_output: {attn_output.shape}\")\n",
    "print(f\"attn_weights: {attn_weights.shape}\")"
   ]
  },
  {
   "cell_type": "code",
   "execution_count": 39,
   "id": "cb617ffa-e893-4e80-a155-8dd5f5b29a5f",
   "metadata": {},
   "outputs": [
    {
     "data": {
      "image/png": "[encoded data removed]",
      "text/plain": [
       "<Figure size 400x400 with 4 Axes>"
      ]
     },
     "metadata": {},
     "output_type": "display_data"
    }
   ],
   "source": [
    "attn_weights = attn_weights.detach()\n",
    "_, ax = plt.subplots(B, n_heads, figsize=(2*B, 2*n_heads))\n",
    "for i in range(B):\n",
    "    for j in range(n_heads):\n",
    "        ax[i, j].imshow(attn_weights[i, j])\n",
    "        \n",
    "plt.show()        "
   ]
  }
 ],
 "metadata": {
  "kernelspec": {
   "display_name": "Python 3 (ipykernel)",
   "language": "python",
   "name": "python3"
  },
  "language_info": {
   "codemirror_mode": {
    "name": "ipython",
    "version": 3
   },
   "file_extension": ".py",
   "mimetype": "text/x-python",
   "name": "python",
   "nbconvert_exporter": "python",
   "pygments_lexer": "ipython3",
   "version": "3.9.2"
  }
 },
 "nbformat": 4,
 "nbformat_minor": 5
}
